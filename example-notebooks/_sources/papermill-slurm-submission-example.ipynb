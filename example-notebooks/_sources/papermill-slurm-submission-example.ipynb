{
 "cells": [
  {
   "cell_type": "markdown",
   "metadata": {},
   "source": [
    "# Papermill Slurm Job Submission"
   ]
  },
  {
   "cell_type": "markdown",
   "metadata": {},
   "source": [
    "**Author**: \n",
    "*Steffen Bollmann*\n",
    "\n",
    "#### Tools included in this workflow\n",
    "FSL\n",
    "\n",
    "#### Dataset\n",
    "*Please cite the database and dataset used in your example*"
   ]
  },
  {
   "cell_type": "markdown",
   "metadata": {},
   "source": [
    "#### Output CPU information"
   ]
  },
  {
   "cell_type": "code",
   "execution_count": 1,
   "metadata": {
    "editable": true,
    "slideshow": {
     "slide_type": ""
    },
    "tags": []
   },
   "outputs": [
    {
     "name": "stdout",
     "output_type": "stream",
     "text": [
      "vendor_id\t: AuthenticAMD\n",
      "model name\t: AMD EPYC 9454 48-Core Processor\n"
     ]
    }
   ],
   "source": [
    "!cat /proc/cpuinfo | grep 'vendor' | uniq\n",
    "!cat /proc/cpuinfo | grep 'model name' | uniq"
   ]
  },
  {
   "cell_type": "markdown",
   "metadata": {},
   "source": [
    "## Load software tools and import python libraries"
   ]
  },
  {
   "cell_type": "markdown",
   "metadata": {},
   "source": [
    "Please have a bloc for loading the different modules needed for your example. If you can not find all the required tools in Neurodesk, feel free to add tools using the web-based GUI https://www.neurodesk.org/neurocontainers-ui/"
   ]
  },
  {
   "cell_type": "code",
   "execution_count": 3,
   "metadata": {
    "editable": true,
    "slideshow": {
     "slide_type": ""
    },
    "tags": []
   },
   "outputs": [
    {
     "data": {
      "text/plain": [
       "['julia/1.10.4',\n",
       " '<H>',\n",
       " '<H>',\n",
       " '<H>',\n",
       " '<H>',\n",
       " '<H>',\n",
       " '<H>',\n",
       " '<H>',\n",
       " '<H>',\n",
       " '<H>',\n",
       " '<H>',\n",
       " '<H>',\n",
       " 'openssl/1.1',\n",
       " 'python/3.10.4-gcccore-11.3.0',\n",
       " '<H>',\n",
       " '<H>',\n",
       " '<H>',\n",
       " '<H>',\n",
       " '<H>',\n",
       " 'libxslt/1.1.34-gcccore-11.3.0',\n",
       " 'lxml/4.9.1-gcccore-11.3.0',\n",
       " 'beautifulsoup/4.10.0-gcccore-11.3.0',\n",
       " '<H>',\n",
       " 'jupyter-server/1.21.0-gcccore-11.3.0',\n",
       " 'jupyterlab/3.5.0-gcccore-11.3.0',\n",
       " 'fsl/6.0.4']"
      ]
     },
     "execution_count": 3,
     "metadata": {},
     "output_type": "execute_result"
    }
   ],
   "source": [
    "#load FSL 6.0.4\n",
    "import module\n",
    "await module.load('fsl/6.0.4')\n",
    "await module.list()"
   ]
  },
  {
   "cell_type": "markdown",
   "metadata": {},
   "source": [
    "## Data preparation"
   ]
  },
  {
   "cell_type": "code",
   "execution_count": 4,
   "metadata": {},
   "outputs": [
    {
     "name": "stdout",
     "output_type": "stream",
     "text": [
      " exist.\n",
      " exist.\n"
     ]
    }
   ],
   "source": [
    "![ -f ./mp2rage-01.nii  ] && echo \"$FILE exist.\" || wget https://imaging.org.au/uploads/Human7T/mp2rageModel_L13_work03-plus-hippocampus-7T-sym-norm-mincanon_v0.8.nii -O ./mp2rage-01.nii \n",
    "![ -f ./mp2rage-02.nii  ] && echo \"$FILE exist.\" || cp ./mp2rage-01.nii ./mp2rage-02.nii "
   ]
  },
  {
   "cell_type": "markdown",
   "metadata": {},
   "source": [
    "## Analysis"
   ]
  },
  {
   "cell_type": "code",
   "execution_count": 5,
   "metadata": {
    "tags": [
     "parameters"
    ]
   },
   "outputs": [],
   "source": [
    "#This cell needs to be tagged as \"parameters\" and it will be replaced at runtime - this can be done by clicking the little cog-wheels in the top right and then tagging the cell\n",
    "subject_id='01'"
   ]
  },
  {
   "cell_type": "code",
   "execution_count": 8,
   "metadata": {},
   "outputs": [
    {
     "name": "stdout",
     "output_type": "stream",
     "text": [
      "mp2rage-01.nii mask-sub-01.nii -R\n"
     ]
    }
   ],
   "source": [
    "!bet mp2rage-{subject_id}.nii mask-sub-{subject_id}.nii -R"
   ]
  },
  {
   "cell_type": "markdown",
   "metadata": {},
   "source": [
    "## Running it on the HPC"
   ]
  },
  {
   "cell_type": "code",
   "execution_count": null,
   "metadata": {},
   "outputs": [],
   "source": [
    "# Save Notebook and Run this on the terminal to test\n",
    "# papermill papermill-slurm-submission-example.ipynb papermill_output.ipynb --parameters_raw subject_id 02"
   ]
  },
  {
   "cell_type": "code",
   "execution_count": null,
   "metadata": {},
   "outputs": [],
   "source": [
    "# create sbat file with the following content and make sure to replace account string and and execution times and modules loaded:"
   ]
  },
  {
   "cell_type": "raw",
   "metadata": {},
   "source": [
    "#!/bin/bash\n",
    "#SBATCH --job-name=papermill_analysis\n",
    "#SBATCH --output=papermill_%A_%a.out\n",
    "#SBATCH --error=papermill_%A_%a.err\n",
    "#SBATCH --time=00:05:00\n",
    "#SBATCH --nodes=1\n",
    "#SBATCH --ntasks-per-node=1\n",
    "#SBATCH --cpus-per-task=4\n",
    "#SBATCH --mem=20G\n",
    "#SBATCH --partition=general\n",
    "#SBATCH --account=a_barth\n",
    "#SBATCH --array=1-2\n",
    "\n",
    "# add the modules here that are loaded in your jupyter session - find out via running \"ml\"\n",
    "module load julia/1.10.4\n",
    "module load openssl/1.1\n",
    "module load python/3.10.4-gcccore-11.3.0\n",
    "module load libxslt/1.1.34-gcccore-11.3.0\n",
    "module load lxml/4.9.1-gcccore-11.3.0\n",
    "module load beautifulsoup/4.10.0-gcccore-11.3.0\n",
    "module load jupyter-server/1.21.0-gcccore-11.3.0\n",
    "module load jupyterlab/3.5.0-gcccore-11.3.0\n",
    "\n",
    "# Create output directory\n",
    "mkdir -p papermill_outputs\n",
    "\n",
    "# Define subject IDs array\n",
    "subjects=(01 02)\n",
    "\n",
    "# Get current subject based on array index\n",
    "subject_id=${subjects[$((SLURM_ARRAY_TASK_ID-1))]}\n",
    "\n",
    "echo \"Processing subject: $subject_id\"\n",
    "echo \"Job ID: $SLURM_JOB_ID\"\n",
    "echo \"Array Task ID: $SLURM_ARRAY_TASK_ID\"\n",
    "echo \"Started at: $(date)\"\n",
    "\n",
    "# Run papermill for this subject\n",
    "papermill papermill-slurm-submission-example.ipynb \\\n",
    "    papermill_outputs/papermill_output_sub-${subject_id}.ipynb \\\n",
    "    --parameters_raw subject_id ${subject_id}\n",
    "\n",
    "# Check result\n",
    "if [ $? -eq 0 ]; then\n",
    "    echo \"Successfully processed subject $subject_id\"\n",
    "else\n",
    "    echo \"ERROR: Failed to process subject $subject_id\"\n",
    "    exit 1\n",
    "fi\n",
    "\n",
    "echo \"Completed subject $subject_id at $(date)\""
   ]
  },
  {
   "cell_type": "code",
   "execution_count": null,
   "metadata": {},
   "outputs": [],
   "source": [
    "#then run the sbat file:\n",
    "#sbatch papermill.sbat"
   ]
  }
 ],
 "metadata": {
  "kernelspec": {
   "display_name": "Python 3 (ipykernel)",
   "language": "python",
   "name": "python3"
  },
  "language_info": {
   "codemirror_mode": {
    "name": "ipython",
    "version": 3
   },
   "file_extension": ".py",
   "mimetype": "text/x-python",
   "name": "python",
   "nbconvert_exporter": "python",
   "pygments_lexer": "ipython3",
   "version": "3.10.4"
  }
 },
 "nbformat": 4,
 "nbformat_minor": 4
}
